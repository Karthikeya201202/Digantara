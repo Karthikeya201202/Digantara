{
 "cells": [
  {
   "cell_type": "code",
   "execution_count": 1,
   "id": "3e787bde-531b-4f1d-ba02-20e31e634aa9",
   "metadata": {},
   "outputs": [],
   "source": [
    "import pandas as pd\n",
    "import numpy as np\n",
    "import matplotlib.pyplot as plt\n",
    "%matplotlib inline\n",
    "import seaborn as sns"
   ]
  },
  {
   "cell_type": "code",
   "execution_count": 14,
   "id": "710a0e42-a37a-4622-a2f4-9140e661d5b4",
   "metadata": {},
   "outputs": [
    {
     "data": {
      "text/html": [
       "<div>\n",
       "<style scoped>\n",
       "    .dataframe tbody tr th:only-of-type {\n",
       "        vertical-align: middle;\n",
       "    }\n",
       "\n",
       "    .dataframe tbody tr th {\n",
       "        vertical-align: top;\n",
       "    }\n",
       "\n",
       "    .dataframe thead th {\n",
       "        text-align: right;\n",
       "    }\n",
       "</style>\n",
       "<table border=\"1\" class=\"dataframe\">\n",
       "  <thead>\n",
       "    <tr style=\"text-align: right;\">\n",
       "      <th></th>\n",
       "      <th>Datetime</th>\n",
       "      <th>SMA</th>\n",
       "    </tr>\n",
       "  </thead>\n",
       "  <tbody>\n",
       "    <tr>\n",
       "      <th>0</th>\n",
       "      <td>2018-01-01 04:34:10.320672</td>\n",
       "      <td>6864.691463</td>\n",
       "    </tr>\n",
       "    <tr>\n",
       "      <th>1</th>\n",
       "      <td>2018-01-01 12:37:36.596064</td>\n",
       "      <td>6864.689664</td>\n",
       "    </tr>\n",
       "    <tr>\n",
       "      <th>2</th>\n",
       "      <td>2018-01-01 20:31:55.898112</td>\n",
       "      <td>6864.688585</td>\n",
       "    </tr>\n",
       "    <tr>\n",
       "      <th>3</th>\n",
       "      <td>2018-01-02 05:42:49.014720</td>\n",
       "      <td>6864.684927</td>\n",
       "    </tr>\n",
       "    <tr>\n",
       "      <th>4</th>\n",
       "      <td>2018-01-02 12:13:01.263360</td>\n",
       "      <td>6864.682858</td>\n",
       "    </tr>\n",
       "  </tbody>\n",
       "</table>\n",
       "</div>"
      ],
      "text/plain": [
       "                     Datetime          SMA\n",
       "0  2018-01-01 04:34:10.320672  6864.691463\n",
       "1  2018-01-01 12:37:36.596064  6864.689664\n",
       "2  2018-01-01 20:31:55.898112  6864.688585\n",
       "3  2018-01-02 05:42:49.014720  6864.684927\n",
       "4  2018-01-02 12:13:01.263360  6864.682858"
      ]
     },
     "execution_count": 14,
     "metadata": {},
     "output_type": "execute_result"
    }
   ],
   "source": [
    "df=pd.read_csv(r\"C:\\Users\\yedla\\Downloads\\SMA_data (1).csv\")\n",
    "df.head()"
   ]
  },
  {
   "cell_type": "code",
   "execution_count": 16,
   "id": "20a233ab-eac1-4ade-8ccd-e3a279f9152b",
   "metadata": {},
   "outputs": [
    {
     "name": "stdout",
     "output_type": "stream",
     "text": [
      "<class 'pandas.core.frame.DataFrame'>\n",
      "RangeIndex: 2291 entries, 0 to 2290\n",
      "Data columns (total 2 columns):\n",
      " #   Column    Non-Null Count  Dtype  \n",
      "---  ------    --------------  -----  \n",
      " 0   Datetime  2291 non-null   object \n",
      " 1   SMA       2291 non-null   float64\n",
      "dtypes: float64(1), object(1)\n",
      "memory usage: 35.9+ KB\n"
     ]
    }
   ],
   "source": [
    "df.info()"
   ]
  },
  {
   "cell_type": "code",
   "execution_count": 18,
   "id": "38f9811b-77b1-4067-a3d0-ac2aa76281bd",
   "metadata": {},
   "outputs": [
    {
     "data": {
      "text/html": [
       "<div>\n",
       "<style scoped>\n",
       "    .dataframe tbody tr th:only-of-type {\n",
       "        vertical-align: middle;\n",
       "    }\n",
       "\n",
       "    .dataframe tbody tr th {\n",
       "        vertical-align: top;\n",
       "    }\n",
       "\n",
       "    .dataframe thead th {\n",
       "        text-align: right;\n",
       "    }\n",
       "</style>\n",
       "<table border=\"1\" class=\"dataframe\">\n",
       "  <thead>\n",
       "    <tr style=\"text-align: right;\">\n",
       "      <th></th>\n",
       "      <th>SMA</th>\n",
       "    </tr>\n",
       "  </thead>\n",
       "  <tbody>\n",
       "    <tr>\n",
       "      <th>count</th>\n",
       "      <td>2291.000000</td>\n",
       "    </tr>\n",
       "    <tr>\n",
       "      <th>mean</th>\n",
       "      <td>6867.611447</td>\n",
       "    </tr>\n",
       "    <tr>\n",
       "      <th>std</th>\n",
       "      <td>4.251829</td>\n",
       "    </tr>\n",
       "    <tr>\n",
       "      <th>min</th>\n",
       "      <td>6863.806871</td>\n",
       "    </tr>\n",
       "    <tr>\n",
       "      <th>25%</th>\n",
       "      <td>6864.211480</td>\n",
       "    </tr>\n",
       "    <tr>\n",
       "      <th>50%</th>\n",
       "      <td>6864.558916</td>\n",
       "    </tr>\n",
       "    <tr>\n",
       "      <th>75%</th>\n",
       "      <td>6872.988868</td>\n",
       "    </tr>\n",
       "    <tr>\n",
       "      <th>max</th>\n",
       "      <td>6873.482523</td>\n",
       "    </tr>\n",
       "  </tbody>\n",
       "</table>\n",
       "</div>"
      ],
      "text/plain": [
       "               SMA\n",
       "count  2291.000000\n",
       "mean   6867.611447\n",
       "std       4.251829\n",
       "min    6863.806871\n",
       "25%    6864.211480\n",
       "50%    6864.558916\n",
       "75%    6872.988868\n",
       "max    6873.482523"
      ]
     },
     "execution_count": 18,
     "metadata": {},
     "output_type": "execute_result"
    }
   ],
   "source": [
    "df.describe()"
   ]
  },
  {
   "cell_type": "code",
   "execution_count": 20,
   "id": "20636015-52df-4ed9-a528-4a0f5edbc5c7",
   "metadata": {},
   "outputs": [],
   "source": [
    "df['Date_time']=pd.to_datetime(df['Datetime'])"
   ]
  },
  {
   "cell_type": "code",
   "execution_count": 22,
   "id": "a6b633ad-ee2e-4850-98f4-bc93c7dc78f4",
   "metadata": {},
   "outputs": [
    {
     "data": {
      "text/plain": [
       "dtype('<M8[ns]')"
      ]
     },
     "execution_count": 22,
     "metadata": {},
     "output_type": "execute_result"
    }
   ],
   "source": [
    "df['Date_time'].dtype"
   ]
  },
  {
   "cell_type": "code",
   "execution_count": 24,
   "id": "864aaa81-caa1-4f4f-9e3e-a82098382ad3",
   "metadata": {},
   "outputs": [
    {
     "data": {
      "text/html": [
       "<div>\n",
       "<style scoped>\n",
       "    .dataframe tbody tr th:only-of-type {\n",
       "        vertical-align: middle;\n",
       "    }\n",
       "\n",
       "    .dataframe tbody tr th {\n",
       "        vertical-align: top;\n",
       "    }\n",
       "\n",
       "    .dataframe thead th {\n",
       "        text-align: right;\n",
       "    }\n",
       "</style>\n",
       "<table border=\"1\" class=\"dataframe\">\n",
       "  <thead>\n",
       "    <tr style=\"text-align: right;\">\n",
       "      <th></th>\n",
       "      <th>Datetime</th>\n",
       "      <th>SMA</th>\n",
       "      <th>Date_time</th>\n",
       "    </tr>\n",
       "  </thead>\n",
       "  <tbody>\n",
       "    <tr>\n",
       "      <th>0</th>\n",
       "      <td>2018-01-01 04:34:10.320672</td>\n",
       "      <td>6864.691463</td>\n",
       "      <td>2018-01-01 04:34:10.320672</td>\n",
       "    </tr>\n",
       "    <tr>\n",
       "      <th>1</th>\n",
       "      <td>2018-01-01 12:37:36.596064</td>\n",
       "      <td>6864.689664</td>\n",
       "      <td>2018-01-01 12:37:36.596064</td>\n",
       "    </tr>\n",
       "    <tr>\n",
       "      <th>2</th>\n",
       "      <td>2018-01-01 20:31:55.898112</td>\n",
       "      <td>6864.688585</td>\n",
       "      <td>2018-01-01 20:31:55.898112</td>\n",
       "    </tr>\n",
       "    <tr>\n",
       "      <th>3</th>\n",
       "      <td>2018-01-02 05:42:49.014720</td>\n",
       "      <td>6864.684927</td>\n",
       "      <td>2018-01-02 05:42:49.014720</td>\n",
       "    </tr>\n",
       "    <tr>\n",
       "      <th>4</th>\n",
       "      <td>2018-01-02 12:13:01.263360</td>\n",
       "      <td>6864.682858</td>\n",
       "      <td>2018-01-02 12:13:01.263360</td>\n",
       "    </tr>\n",
       "  </tbody>\n",
       "</table>\n",
       "</div>"
      ],
      "text/plain": [
       "                     Datetime          SMA                  Date_time\n",
       "0  2018-01-01 04:34:10.320672  6864.691463 2018-01-01 04:34:10.320672\n",
       "1  2018-01-01 12:37:36.596064  6864.689664 2018-01-01 12:37:36.596064\n",
       "2  2018-01-01 20:31:55.898112  6864.688585 2018-01-01 20:31:55.898112\n",
       "3  2018-01-02 05:42:49.014720  6864.684927 2018-01-02 05:42:49.014720\n",
       "4  2018-01-02 12:13:01.263360  6864.682858 2018-01-02 12:13:01.263360"
      ]
     },
     "execution_count": 24,
     "metadata": {},
     "output_type": "execute_result"
    }
   ],
   "source": [
    "df.head()"
   ]
  },
  {
   "cell_type": "code",
   "execution_count": 26,
   "id": "5160c0f5-a0b0-4c5b-a104-0c607678122b",
   "metadata": {},
   "outputs": [],
   "source": [
    "df['Date']=df['Date_time'].dt.date"
   ]
  },
  {
   "cell_type": "code",
   "execution_count": 28,
   "id": "c9f3cb69-d92f-4604-bb64-6937a9c09b64",
   "metadata": {},
   "outputs": [
    {
     "data": {
      "text/plain": [
       "dtype('O')"
      ]
     },
     "execution_count": 28,
     "metadata": {},
     "output_type": "execute_result"
    }
   ],
   "source": [
    "df['Date'].dtype"
   ]
  },
  {
   "cell_type": "code",
   "execution_count": 30,
   "id": "cb5f06e7-e9f6-45aa-bd2f-ab8a31d987d3",
   "metadata": {},
   "outputs": [],
   "source": [
    "df.drop(['Datetime'],axis=1,inplace=True)"
   ]
  },
  {
   "cell_type": "code",
   "execution_count": 32,
   "id": "7de2bd51-50e9-49f1-af13-b456b5e0e171",
   "metadata": {},
   "outputs": [
    {
     "data": {
      "text/html": [
       "<div>\n",
       "<style scoped>\n",
       "    .dataframe tbody tr th:only-of-type {\n",
       "        vertical-align: middle;\n",
       "    }\n",
       "\n",
       "    .dataframe tbody tr th {\n",
       "        vertical-align: top;\n",
       "    }\n",
       "\n",
       "    .dataframe thead th {\n",
       "        text-align: right;\n",
       "    }\n",
       "</style>\n",
       "<table border=\"1\" class=\"dataframe\">\n",
       "  <thead>\n",
       "    <tr style=\"text-align: right;\">\n",
       "      <th></th>\n",
       "      <th>SMA</th>\n",
       "      <th>Date_time</th>\n",
       "      <th>Date</th>\n",
       "    </tr>\n",
       "  </thead>\n",
       "  <tbody>\n",
       "    <tr>\n",
       "      <th>0</th>\n",
       "      <td>6864.691463</td>\n",
       "      <td>2018-01-01 04:34:10.320672</td>\n",
       "      <td>2018-01-01</td>\n",
       "    </tr>\n",
       "    <tr>\n",
       "      <th>1</th>\n",
       "      <td>6864.689664</td>\n",
       "      <td>2018-01-01 12:37:36.596064</td>\n",
       "      <td>2018-01-01</td>\n",
       "    </tr>\n",
       "    <tr>\n",
       "      <th>2</th>\n",
       "      <td>6864.688585</td>\n",
       "      <td>2018-01-01 20:31:55.898112</td>\n",
       "      <td>2018-01-01</td>\n",
       "    </tr>\n",
       "    <tr>\n",
       "      <th>3</th>\n",
       "      <td>6864.684927</td>\n",
       "      <td>2018-01-02 05:42:49.014720</td>\n",
       "      <td>2018-01-02</td>\n",
       "    </tr>\n",
       "    <tr>\n",
       "      <th>4</th>\n",
       "      <td>6864.682858</td>\n",
       "      <td>2018-01-02 12:13:01.263360</td>\n",
       "      <td>2018-01-02</td>\n",
       "    </tr>\n",
       "  </tbody>\n",
       "</table>\n",
       "</div>"
      ],
      "text/plain": [
       "           SMA                  Date_time        Date\n",
       "0  6864.691463 2018-01-01 04:34:10.320672  2018-01-01\n",
       "1  6864.689664 2018-01-01 12:37:36.596064  2018-01-01\n",
       "2  6864.688585 2018-01-01 20:31:55.898112  2018-01-01\n",
       "3  6864.684927 2018-01-02 05:42:49.014720  2018-01-02\n",
       "4  6864.682858 2018-01-02 12:13:01.263360  2018-01-02"
      ]
     },
     "execution_count": 32,
     "metadata": {},
     "output_type": "execute_result"
    }
   ],
   "source": [
    "df.head()"
   ]
  },
  {
   "cell_type": "code",
   "execution_count": 34,
   "id": "ef9abc5c-1ed4-4dda-8ad2-f86a15776d0a",
   "metadata": {},
   "outputs": [
    {
     "data": {
      "image/png": "[encoded data removed]",
      "text/plain": [
       "<Figure size 640x480 with 1 Axes>"
      ]
     },
     "metadata": {},
     "output_type": "display_data"
    }
   ],
   "source": [
    "plt.plot(df['Date'],df['SMA'])\n",
    "plt.xticks(rotation=90)\n",
    "plt.title(\"SMA vs Date\")\n",
    "plt.show()"
   ]
  },
  {
   "cell_type": "markdown",
   "id": "c56f8285-a488-4b5a-813f-b8a9d00814c0",
   "metadata": {},
   "source": [
    "##### According to data. Manuevers occured at following dates\n",
    "1. 2018-05-03 \n",
    "2. 2018-10-11\n",
    "3. 2019-03-27\n",
    "4. 2019-05-17\n",
    "5.2019-09-11\n",
    "5. 2019-11-01\n",
    "#### The number of days between two consecutive dates are 161, 167,51,117,51 so is there any pattern?.In case of average number of occurance of manuevers between two dates is constant. Then we can probably model them using exponential distribution."
   ]
  },
  {
   "cell_type": "code",
   "execution_count": 36,
   "id": "7b2f41ff-a53c-4e52-b1c4-415dc8fc15bf",
   "metadata": {},
   "outputs": [
    {
     "name": "stderr",
     "output_type": "stream",
     "text": [
      "C:\\Users\\yedla\\AppData\\Local\\Temp\\ipykernel_17184\\1527518730.py:2: UserWarning: \n",
      "\n",
      "`distplot` is a deprecated function and will be removed in seaborn v0.14.0.\n",
      "\n",
      "Please adapt your code to use either `displot` (a figure-level function with\n",
      "similar flexibility) or `histplot` (an axes-level function for histograms).\n",
      "\n",
      "For a guide to updating your code to use the new functions, please see\n",
      "https://gist.github.com/mwaskom/de44147ed2974457ad6372750bbe5751\n",
      "\n",
      "  sns.distplot(df['SMA'])\n",
      "C:\\Users\\yedla\\anaconda3_new\\Lib\\site-packages\\seaborn\\_oldcore.py:1119: FutureWarning: use_inf_as_na option is deprecated and will be removed in a future version. Convert inf values to NaN before operating instead.\n",
      "  with pd.option_context('mode.use_inf_as_na', True):\n"
     ]
    },
    {
     "data": {
      "image/png": "[encoded data removed]",
      "text/plain": [
       "<Figure size 640x480 with 1 Axes>"
      ]
     },
     "metadata": {},
     "output_type": "display_data"
    }
   ],
   "source": [
    "# distribution of the data\n",
    "sns.distplot(df['SMA'])\n",
    "plt.title(\"Distribution of SMA\")\n",
    "plt.show()"
   ]
  },
  {
   "cell_type": "markdown",
   "id": "13504235-128c-4b5c-afce-2f2501b70dfe",
   "metadata": {},
   "source": [
    "#### Observations\n",
    "1.\tWhen there sudden jump then there is a maneuvers. \n",
    "2.\tIn general the SMA value is decreasing with constant slope ,but when maneuvers occurs there is a sudden jump, again the value decreasing from there …\r\n"
   ]
  },
  {
   "cell_type": "markdown",
   "id": "d3dfafe7-b8ac-4b5e-9c37-d70c57242a7e",
   "metadata": {},
   "source": [
    "#### Huerstic Approach:\n",
    "    Now the question is how to find this jump?\n",
    "1.\tFor every value starting from beginning , subtract the current value from its previous, when the value is positive meaning there is jump…"
   ]
  },
  {
   "cell_type": "code",
   "execution_count": 43,
   "id": "0c5c911a-fe46-4a35-9408-df3b53a9a502",
   "metadata": {},
   "outputs": [
    {
     "data": {
      "text/plain": [
       "0            NaN\n",
       "1      -0.001799\n",
       "2      -0.001079\n",
       "3      -0.003658\n",
       "4      -0.002069\n",
       "          ...   \n",
       "2286   -0.001594\n",
       "2287   -0.001624\n",
       "2288   -0.001233\n",
       "2289   -0.003548\n",
       "2290   -0.000872\n",
       "Name: SMA_diff, Length: 2291, dtype: float64"
      ]
     },
     "execution_count": 43,
     "metadata": {},
     "output_type": "execute_result"
    }
   ],
   "source": [
    "# Calculate differences between consecutive SMA values\n",
    "df['SMA_diff'] = df['SMA'].diff()\n",
    "df['SMA_diff']"
   ]
  },
  {
   "cell_type": "code",
   "execution_count": 45,
   "id": "68401938-eea5-4389-b0cd-d32bdb31d182",
   "metadata": {},
   "outputs": [],
   "source": [
    "# Lets consider a threshold for detecting jumps\n",
    "threshold = 0.1\n",
    "# Identifying jumps\n",
    "df['is_jump'] = df['SMA_diff'] > threshold"
   ]
  },
  {
   "cell_type": "code",
   "execution_count": 47,
   "id": "3f8c0912-63c0-4d42-8f22-81e18c1112f8",
   "metadata": {},
   "outputs": [
    {
     "data": {
      "text/html": [
       "<div>\n",
       "<style scoped>\n",
       "    .dataframe tbody tr th:only-of-type {\n",
       "        vertical-align: middle;\n",
       "    }\n",
       "\n",
       "    .dataframe tbody tr th {\n",
       "        vertical-align: top;\n",
       "    }\n",
       "\n",
       "    .dataframe thead th {\n",
       "        text-align: right;\n",
       "    }\n",
       "</style>\n",
       "<table border=\"1\" class=\"dataframe\">\n",
       "  <thead>\n",
       "    <tr style=\"text-align: right;\">\n",
       "      <th></th>\n",
       "      <th>SMA</th>\n",
       "      <th>Date_time</th>\n",
       "      <th>Date</th>\n",
       "      <th>SMA_diff</th>\n",
       "      <th>is_jump</th>\n",
       "    </tr>\n",
       "  </thead>\n",
       "  <tbody>\n",
       "    <tr>\n",
       "      <th>384</th>\n",
       "      <td>6864.749568</td>\n",
       "      <td>2018-05-03 12:01:31.056960</td>\n",
       "      <td>2018-05-03</td>\n",
       "      <td>0.911916</td>\n",
       "      <td>True</td>\n",
       "    </tr>\n",
       "    <tr>\n",
       "      <th>871</th>\n",
       "      <td>6864.695930</td>\n",
       "      <td>2018-10-11 13:37:04.556640</td>\n",
       "      <td>2018-10-11</td>\n",
       "      <td>0.862714</td>\n",
       "      <td>True</td>\n",
       "    </tr>\n",
       "    <tr>\n",
       "      <th>872</th>\n",
       "      <td>6864.824196</td>\n",
       "      <td>2018-10-11 19:59:53.915424</td>\n",
       "      <td>2018-10-11</td>\n",
       "      <td>0.128266</td>\n",
       "      <td>True</td>\n",
       "    </tr>\n",
       "    <tr>\n",
       "      <th>1421</th>\n",
       "      <td>6866.447702</td>\n",
       "      <td>2019-03-26 04:53:33.243936</td>\n",
       "      <td>2019-03-26</td>\n",
       "      <td>2.640831</td>\n",
       "      <td>True</td>\n",
       "    </tr>\n",
       "    <tr>\n",
       "      <th>1422</th>\n",
       "      <td>6871.548711</td>\n",
       "      <td>2019-03-27 04:34:36.436800</td>\n",
       "      <td>2019-03-27</td>\n",
       "      <td>5.101009</td>\n",
       "      <td>True</td>\n",
       "    </tr>\n",
       "    <tr>\n",
       "      <th>1423</th>\n",
       "      <td>6873.222542</td>\n",
       "      <td>2019-03-27 20:25:37.599168</td>\n",
       "      <td>2019-03-27</td>\n",
       "      <td>1.673831</td>\n",
       "      <td>True</td>\n",
       "    </tr>\n",
       "    <tr>\n",
       "      <th>1583</th>\n",
       "      <td>6873.309430</td>\n",
       "      <td>2019-05-15 10:44:36.864096</td>\n",
       "      <td>2019-05-15</td>\n",
       "      <td>0.472244</td>\n",
       "      <td>True</td>\n",
       "    </tr>\n",
       "    <tr>\n",
       "      <th>1585</th>\n",
       "      <td>6873.480508</td>\n",
       "      <td>2019-05-16 16:43:16.023072</td>\n",
       "      <td>2019-05-16</td>\n",
       "      <td>0.223560</td>\n",
       "      <td>True</td>\n",
       "    </tr>\n",
       "    <tr>\n",
       "      <th>1588</th>\n",
       "      <td>6873.391750</td>\n",
       "      <td>2019-05-17 11:36:17.564832</td>\n",
       "      <td>2019-05-17</td>\n",
       "      <td>0.168035</td>\n",
       "      <td>True</td>\n",
       "    </tr>\n",
       "    <tr>\n",
       "      <th>1944</th>\n",
       "      <td>6873.117522</td>\n",
       "      <td>2019-09-11 04:28:22.151136</td>\n",
       "      <td>2019-09-11</td>\n",
       "      <td>0.259556</td>\n",
       "      <td>True</td>\n",
       "    </tr>\n",
       "    <tr>\n",
       "      <th>1945</th>\n",
       "      <td>6873.261459</td>\n",
       "      <td>2019-09-11 12:24:37.325952</td>\n",
       "      <td>2019-09-11</td>\n",
       "      <td>0.143938</td>\n",
       "      <td>True</td>\n",
       "    </tr>\n",
       "    <tr>\n",
       "      <th>2120</th>\n",
       "      <td>6873.193429</td>\n",
       "      <td>2019-11-01 17:55:22.162656</td>\n",
       "      <td>2019-11-01</td>\n",
       "      <td>0.235626</td>\n",
       "      <td>True</td>\n",
       "    </tr>\n",
       "  </tbody>\n",
       "</table>\n",
       "</div>"
      ],
      "text/plain": [
       "              SMA                  Date_time        Date  SMA_diff  is_jump\n",
       "384   6864.749568 2018-05-03 12:01:31.056960  2018-05-03  0.911916     True\n",
       "871   6864.695930 2018-10-11 13:37:04.556640  2018-10-11  0.862714     True\n",
       "872   6864.824196 2018-10-11 19:59:53.915424  2018-10-11  0.128266     True\n",
       "1421  6866.447702 2019-03-26 04:53:33.243936  2019-03-26  2.640831     True\n",
       "1422  6871.548711 2019-03-27 04:34:36.436800  2019-03-27  5.101009     True\n",
       "1423  6873.222542 2019-03-27 20:25:37.599168  2019-03-27  1.673831     True\n",
       "1583  6873.309430 2019-05-15 10:44:36.864096  2019-05-15  0.472244     True\n",
       "1585  6873.480508 2019-05-16 16:43:16.023072  2019-05-16  0.223560     True\n",
       "1588  6873.391750 2019-05-17 11:36:17.564832  2019-05-17  0.168035     True\n",
       "1944  6873.117522 2019-09-11 04:28:22.151136  2019-09-11  0.259556     True\n",
       "1945  6873.261459 2019-09-11 12:24:37.325952  2019-09-11  0.143938     True\n",
       "2120  6873.193429 2019-11-01 17:55:22.162656  2019-11-01  0.235626     True"
      ]
     },
     "execution_count": 47,
     "metadata": {},
     "output_type": "execute_result"
    }
   ],
   "source": [
    "df.loc[df['is_jump']==True]"
   ]
  },
  {
   "cell_type": "code",
   "execution_count": 49,
   "id": "82c2b2af-f016-4c42-99fd-4366838847e8",
   "metadata": {},
   "outputs": [
    {
     "name": "stdout",
     "output_type": "stream",
     "text": [
      "Dates with jumps:\n",
      "384     2018-05-03\n",
      "871     2018-10-11\n",
      "872     2018-10-11\n",
      "1421    2019-03-26\n",
      "1422    2019-03-27\n",
      "1423    2019-03-27\n",
      "1583    2019-05-15\n",
      "1585    2019-05-16\n",
      "1588    2019-05-17\n",
      "1944    2019-09-11\n",
      "1945    2019-09-11\n",
      "2120    2019-11-01\n",
      "Name: Date, dtype: object\n"
     ]
    }
   ],
   "source": [
    "# Get the dates corresponding to the jumps\n",
    "jump_dates = df.loc[df['is_jump'], 'Date']\n",
    "print(\"Dates with jumps:\")\n",
    "print(jump_dates)"
   ]
  },
  {
   "cell_type": "markdown",
   "id": "78042350-d377-4df4-8d3a-4d8bd799d58d",
   "metadata": {},
   "source": [
    "##### But here the question is how to quantify this jump? Is 0.04 is also considered as jump?"
   ]
  },
  {
   "cell_type": "markdown",
   "id": "a30d6e2b-80d6-4981-be63-5a5c921858fb",
   "metadata": {},
   "source": [
    "##### Comment:\n",
    "How do we say whether a jump is manuvers or not🤔. Because it is clear that not every jump is Manuevers."
   ]
  },
  {
   "cell_type": "markdown",
   "id": "0935d238-43c1-42ac-82be-9c8c56fa8bbb",
   "metadata": {},
   "source": [
    "#### Observations-2:\n",
    "1. If there are consecutive or identical dates with positive values, we only consider the last date when the SMA starts decreasing again as a maneuver point.\n",
    "Example: 2019-03-26,  2019-03-23,  2019-03- these dates are consecutive and have positive SMA_diff. But they considered maneuver at 2019-03-27. Same applies for 2019-05-15, 2019-05-16,  2019-05-17.\n",
    "2. Hence we can conclude that manuevers occurs when there is shift jump in SMA and followed by decreasing of SMA.\n",
    "3. Now we are required to find out the dates where SMA_diff is positive and the immediate next date has negative SMA_diff or almost same SMA_diff.\n"
   ]
  },
  {
   "cell_type": "code",
   "execution_count": 65,
   "id": "200ba49b-8911-44ca-9656-a72ddee6c8c2",
   "metadata": {},
   "outputs": [
    {
     "name": "stdout",
     "output_type": "stream",
     "text": [
      "872     2018-10-11\n",
      "1423    2019-03-27\n",
      "1583    2019-05-15\n",
      "1588    2019-05-17\n",
      "2120    2019-11-01\n",
      "Name: Date, dtype: object\n"
     ]
    }
   ],
   "source": [
    "#lets shift the SMA_diff by one value above \n",
    "df['SMA_diff_shifted'] = df['SMA_diff'].shift(-1)\n",
    "\n",
    "# Identify dates where SMA_diff is positive and the next immediate SMA_diff is negative\n",
    "maneuver_dates = df.loc[(df['is_jump']) & (df['SMA_diff_shifted'] < 0), 'Date']\n",
    "print(maneuver_dates)"
   ]
  },
  {
   "cell_type": "code",
   "execution_count": 67,
   "id": "d021fecc-2652-47ba-ba4e-c58f0930694f",
   "metadata": {},
   "outputs": [
    {
     "data": {
      "text/html": [
       "<div>\n",
       "<style scoped>\n",
       "    .dataframe tbody tr th:only-of-type {\n",
       "        vertical-align: middle;\n",
       "    }\n",
       "\n",
       "    .dataframe tbody tr th {\n",
       "        vertical-align: top;\n",
       "    }\n",
       "\n",
       "    .dataframe thead th {\n",
       "        text-align: right;\n",
       "    }\n",
       "</style>\n",
       "<table border=\"1\" class=\"dataframe\">\n",
       "  <thead>\n",
       "    <tr style=\"text-align: right;\">\n",
       "      <th></th>\n",
       "      <th>SMA</th>\n",
       "      <th>Date_time</th>\n",
       "      <th>Date</th>\n",
       "      <th>SMA_diff</th>\n",
       "      <th>is_jump</th>\n",
       "      <th>SMA_diff_shifted</th>\n",
       "    </tr>\n",
       "  </thead>\n",
       "  <tbody>\n",
       "    <tr>\n",
       "      <th>384</th>\n",
       "      <td>6864.749568</td>\n",
       "      <td>2018-05-03 12:01:31.056960</td>\n",
       "      <td>2018-05-03</td>\n",
       "      <td>0.911916</td>\n",
       "      <td>True</td>\n",
       "      <td>0.043115</td>\n",
       "    </tr>\n",
       "    <tr>\n",
       "      <th>871</th>\n",
       "      <td>6864.695930</td>\n",
       "      <td>2018-10-11 13:37:04.556640</td>\n",
       "      <td>2018-10-11</td>\n",
       "      <td>0.862714</td>\n",
       "      <td>True</td>\n",
       "      <td>0.128266</td>\n",
       "    </tr>\n",
       "    <tr>\n",
       "      <th>872</th>\n",
       "      <td>6864.824196</td>\n",
       "      <td>2018-10-11 19:59:53.915424</td>\n",
       "      <td>2018-10-11</td>\n",
       "      <td>0.128266</td>\n",
       "      <td>True</td>\n",
       "      <td>-0.067372</td>\n",
       "    </tr>\n",
       "    <tr>\n",
       "      <th>1421</th>\n",
       "      <td>6866.447702</td>\n",
       "      <td>2019-03-26 04:53:33.243936</td>\n",
       "      <td>2019-03-26</td>\n",
       "      <td>2.640831</td>\n",
       "      <td>True</td>\n",
       "      <td>5.101009</td>\n",
       "    </tr>\n",
       "    <tr>\n",
       "      <th>1422</th>\n",
       "      <td>6871.548711</td>\n",
       "      <td>2019-03-27 04:34:36.436800</td>\n",
       "      <td>2019-03-27</td>\n",
       "      <td>5.101009</td>\n",
       "      <td>True</td>\n",
       "      <td>1.673831</td>\n",
       "    </tr>\n",
       "    <tr>\n",
       "      <th>1423</th>\n",
       "      <td>6873.222542</td>\n",
       "      <td>2019-03-27 20:25:37.599168</td>\n",
       "      <td>2019-03-27</td>\n",
       "      <td>1.673831</td>\n",
       "      <td>True</td>\n",
       "      <td>-0.060901</td>\n",
       "    </tr>\n",
       "    <tr>\n",
       "      <th>1583</th>\n",
       "      <td>6873.309430</td>\n",
       "      <td>2019-05-15 10:44:36.864096</td>\n",
       "      <td>2019-05-15</td>\n",
       "      <td>0.472244</td>\n",
       "      <td>True</td>\n",
       "      <td>-0.052482</td>\n",
       "    </tr>\n",
       "    <tr>\n",
       "      <th>1585</th>\n",
       "      <td>6873.480508</td>\n",
       "      <td>2019-05-16 16:43:16.023072</td>\n",
       "      <td>2019-05-16</td>\n",
       "      <td>0.223560</td>\n",
       "      <td>True</td>\n",
       "      <td>0.002015</td>\n",
       "    </tr>\n",
       "    <tr>\n",
       "      <th>1588</th>\n",
       "      <td>6873.391750</td>\n",
       "      <td>2019-05-17 11:36:17.564832</td>\n",
       "      <td>2019-05-17</td>\n",
       "      <td>0.168035</td>\n",
       "      <td>True</td>\n",
       "      <td>-0.105899</td>\n",
       "    </tr>\n",
       "    <tr>\n",
       "      <th>1944</th>\n",
       "      <td>6873.117522</td>\n",
       "      <td>2019-09-11 04:28:22.151136</td>\n",
       "      <td>2019-09-11</td>\n",
       "      <td>0.259556</td>\n",
       "      <td>True</td>\n",
       "      <td>0.143938</td>\n",
       "    </tr>\n",
       "    <tr>\n",
       "      <th>1945</th>\n",
       "      <td>6873.261459</td>\n",
       "      <td>2019-09-11 12:24:37.325952</td>\n",
       "      <td>2019-09-11</td>\n",
       "      <td>0.143938</td>\n",
       "      <td>True</td>\n",
       "      <td>0.024482</td>\n",
       "    </tr>\n",
       "    <tr>\n",
       "      <th>2120</th>\n",
       "      <td>6873.193429</td>\n",
       "      <td>2019-11-01 17:55:22.162656</td>\n",
       "      <td>2019-11-01</td>\n",
       "      <td>0.235626</td>\n",
       "      <td>True</td>\n",
       "      <td>-0.001083</td>\n",
       "    </tr>\n",
       "  </tbody>\n",
       "</table>\n",
       "</div>"
      ],
      "text/plain": [
       "              SMA                  Date_time        Date  SMA_diff  is_jump  \\\n",
       "384   6864.749568 2018-05-03 12:01:31.056960  2018-05-03  0.911916     True   \n",
       "871   6864.695930 2018-10-11 13:37:04.556640  2018-10-11  0.862714     True   \n",
       "872   6864.824196 2018-10-11 19:59:53.915424  2018-10-11  0.128266     True   \n",
       "1421  6866.447702 2019-03-26 04:53:33.243936  2019-03-26  2.640831     True   \n",
       "1422  6871.548711 2019-03-27 04:34:36.436800  2019-03-27  5.101009     True   \n",
       "1423  6873.222542 2019-03-27 20:25:37.599168  2019-03-27  1.673831     True   \n",
       "1583  6873.309430 2019-05-15 10:44:36.864096  2019-05-15  0.472244     True   \n",
       "1585  6873.480508 2019-05-16 16:43:16.023072  2019-05-16  0.223560     True   \n",
       "1588  6873.391750 2019-05-17 11:36:17.564832  2019-05-17  0.168035     True   \n",
       "1944  6873.117522 2019-09-11 04:28:22.151136  2019-09-11  0.259556     True   \n",
       "1945  6873.261459 2019-09-11 12:24:37.325952  2019-09-11  0.143938     True   \n",
       "2120  6873.193429 2019-11-01 17:55:22.162656  2019-11-01  0.235626     True   \n",
       "\n",
       "      SMA_diff_shifted  \n",
       "384           0.043115  \n",
       "871           0.128266  \n",
       "872          -0.067372  \n",
       "1421          5.101009  \n",
       "1422          1.673831  \n",
       "1423         -0.060901  \n",
       "1583         -0.052482  \n",
       "1585          0.002015  \n",
       "1588         -0.105899  \n",
       "1944          0.143938  \n",
       "1945          0.024482  \n",
       "2120         -0.001083  "
      ]
     },
     "execution_count": 67,
     "metadata": {},
     "output_type": "execute_result"
    }
   ],
   "source": [
    "df.loc[df['is_jump']==True]"
   ]
  },
  {
   "cell_type": "markdown",
   "id": "dab2d0a3-6ebc-4f80-8b33-4791695ac712",
   "metadata": {},
   "source": [
    "##### Note: Here we are unable to capture every manuevers. because we have considered SMA_diff_shifted to be less than 0. But there are Manuevers, even when SMA_diff_shifted is positive (very small). Hence there is a need to consider a threshold in order to capture all Manuevers.\n"
   ]
  },
  {
   "cell_type": "code",
   "execution_count": 70,
   "id": "4eace0e8-5aad-43a0-b548-12dc9f48210d",
   "metadata": {},
   "outputs": [
    {
     "name": "stdout",
     "output_type": "stream",
     "text": [
      "384     2018-05-03\n",
      "872     2018-10-11\n",
      "1423    2019-03-27\n",
      "1583    2019-05-15\n",
      "1585    2019-05-16\n",
      "1588    2019-05-17\n",
      "1945    2019-09-11\n",
      "2120    2019-11-01\n",
      "Name: Date, dtype: object\n"
     ]
    }
   ],
   "source": [
    "# Lets consider threshold value to be 0.05\n",
    "maneuver_dates = df.loc[(df['is_jump']) & (df['SMA_diff_shifted'] < 0.05), 'Date']\n",
    "print(maneuver_dates)"
   ]
  },
  {
   "cell_type": "markdown",
   "id": "ac71e8eb-4f24-4f3c-b1d1-39c03673d7b6",
   "metadata": {},
   "source": [
    "#### Lets explore if we can solve using ML techniques\n",
    "\n",
    "Side Note:\n",
    "1. Machine learning algorithms are best approximating functions. Hence if we can fit the data to a function we can find out manuerves.\n",
    "#### Objective:\n",
    "1.\tTo determine/find the best approximator(function f(x)) using machine learning. Here x refers to SMA."
   ]
  },
  {
   "cell_type": "code",
   "execution_count": 73,
   "id": "54647eb8-3e3a-459d-9e76-e30b6384ea40",
   "metadata": {},
   "outputs": [],
   "source": [
    "from sklearn.preprocessing import MinMaxScaler\n",
    "from sklearn.model_selection import train_test_split"
   ]
  },
  {
   "cell_type": "markdown",
   "id": "53cd779f-4e2d-499d-9637-074023b00f80",
   "metadata": {},
   "source": [
    "### Approach-1 Supervised learning (classification):\n",
    "1. Lets consider manuever detection to be binary classification problem, where we classify each datapoint to be manuever or not.\n",
    "2. But now the question is what features are we going to consider? For now lets consider SMA, SMA_diff which we computed earlier as features.\n",
    "3. And based on the manuever data given lets label each data point to be either manuever or not. And then we will train the model."
   ]
  },
  {
   "cell_type": "code",
   "execution_count": 76,
   "id": "9bc5f5f1-2ded-445a-af3b-23ab85520e25",
   "metadata": {},
   "outputs": [],
   "source": [
    "#Label the target variable\n",
    "idx=[384,872,1423,1588,1945,2120]\n",
    "df['target']=0\n",
    "df.loc[idx, 'target'] = 1"
   ]
  },
  {
   "cell_type": "code",
   "execution_count": 78,
   "id": "82496eb6-74e6-4df8-807f-0026c8d54546",
   "metadata": {},
   "outputs": [
    {
     "data": {
      "text/plain": [
       "target\n",
       "0    2285\n",
       "1       6\n",
       "Name: count, dtype: int64"
      ]
     },
     "execution_count": 78,
     "metadata": {},
     "output_type": "execute_result"
    }
   ],
   "source": [
    "df['target'].value_counts()"
   ]
  },
  {
   "cell_type": "markdown",
   "id": "a802c072-c5fd-4f18-8722-43bd6fba6689",
   "metadata": {},
   "source": [
    "##### Clearly it is a imbalanced dataset."
   ]
  },
  {
   "cell_type": "markdown",
   "id": "913d2425-154a-4ef1-9982-f626331be2cc",
   "metadata": {},
   "source": [
    "#####  Comments\n",
    "The given data is highly imbalanced. Let's try to oversample/undersample the observational data and train the classifier on the over sampled data"
   ]
  },
  {
   "cell_type": "code",
   "execution_count": 82,
   "id": "f62e6475-c324-44de-9566-49411e146b75",
   "metadata": {},
   "outputs": [
    {
     "data": {
      "text/html": [
       "<div>\n",
       "<style scoped>\n",
       "    .dataframe tbody tr th:only-of-type {\n",
       "        vertical-align: middle;\n",
       "    }\n",
       "\n",
       "    .dataframe tbody tr th {\n",
       "        vertical-align: top;\n",
       "    }\n",
       "\n",
       "    .dataframe thead th {\n",
       "        text-align: right;\n",
       "    }\n",
       "</style>\n",
       "<table border=\"1\" class=\"dataframe\">\n",
       "  <thead>\n",
       "    <tr style=\"text-align: right;\">\n",
       "      <th></th>\n",
       "      <th>SMA</th>\n",
       "      <th>Date_time</th>\n",
       "      <th>Date</th>\n",
       "      <th>SMA_diff</th>\n",
       "      <th>is_jump</th>\n",
       "      <th>SMA_diff_shifted</th>\n",
       "      <th>target</th>\n",
       "    </tr>\n",
       "  </thead>\n",
       "  <tbody>\n",
       "    <tr>\n",
       "      <th>354</th>\n",
       "      <td>6863.885279</td>\n",
       "      <td>2018-04-24 12:48:39.009312</td>\n",
       "      <td>2018-04-24</td>\n",
       "      <td>-0.003627</td>\n",
       "      <td>False</td>\n",
       "      <td>-0.002518</td>\n",
       "      <td>0</td>\n",
       "    </tr>\n",
       "    <tr>\n",
       "      <th>1182</th>\n",
       "      <td>6864.209457</td>\n",
       "      <td>2019-01-12 12:25:46.773408</td>\n",
       "      <td>2019-01-12</td>\n",
       "      <td>-0.000779</td>\n",
       "      <td>False</td>\n",
       "      <td>-0.000090</td>\n",
       "      <td>0</td>\n",
       "    </tr>\n",
       "    <tr>\n",
       "      <th>1958</th>\n",
       "      <td>6873.133281</td>\n",
       "      <td>2019-09-17 19:54:37.598112</td>\n",
       "      <td>2019-09-17</td>\n",
       "      <td>-0.000391</td>\n",
       "      <td>False</td>\n",
       "      <td>-0.001474</td>\n",
       "      <td>0</td>\n",
       "    </tr>\n",
       "    <tr>\n",
       "      <th>890</th>\n",
       "      <td>6864.718597</td>\n",
       "      <td>2018-10-18 12:24:29.723616</td>\n",
       "      <td>2018-10-18</td>\n",
       "      <td>-0.002249</td>\n",
       "      <td>False</td>\n",
       "      <td>-0.000750</td>\n",
       "      <td>0</td>\n",
       "    </tr>\n",
       "    <tr>\n",
       "      <th>2225</th>\n",
       "      <td>6873.002070</td>\n",
       "      <td>2019-12-13 02:42:28.577664</td>\n",
       "      <td>2019-12-13</td>\n",
       "      <td>-0.002015</td>\n",
       "      <td>False</td>\n",
       "      <td>-0.002045</td>\n",
       "      <td>0</td>\n",
       "    </tr>\n",
       "  </tbody>\n",
       "</table>\n",
       "</div>"
      ],
      "text/plain": [
       "              SMA                  Date_time        Date  SMA_diff  is_jump  \\\n",
       "354   6863.885279 2018-04-24 12:48:39.009312  2018-04-24 -0.003627    False   \n",
       "1182  6864.209457 2019-01-12 12:25:46.773408  2019-01-12 -0.000779    False   \n",
       "1958  6873.133281 2019-09-17 19:54:37.598112  2019-09-17 -0.000391    False   \n",
       "890   6864.718597 2018-10-18 12:24:29.723616  2018-10-18 -0.002249    False   \n",
       "2225  6873.002070 2019-12-13 02:42:28.577664  2019-12-13 -0.002015    False   \n",
       "\n",
       "      SMA_diff_shifted  target  \n",
       "354          -0.002518       0  \n",
       "1182         -0.000090       0  \n",
       "1958         -0.001474       0  \n",
       "890          -0.000750       0  \n",
       "2225         -0.002045       0  "
      ]
     },
     "execution_count": 82,
     "metadata": {},
     "output_type": "execute_result"
    }
   ],
   "source": [
    "df.sample(5)"
   ]
  },
  {
   "cell_type": "code",
   "execution_count": 84,
   "id": "4ca8b875-bd27-4623-88e1-26d325d77180",
   "metadata": {},
   "outputs": [],
   "source": [
    "df.dropna(inplace=True)"
   ]
  },
  {
   "cell_type": "code",
   "execution_count": 86,
   "id": "05ce6065-da0d-47d7-9205-25eb107652cf",
   "metadata": {},
   "outputs": [],
   "source": [
    "y=df.loc[:,['target']]\n"
   ]
  },
  {
   "cell_type": "code",
   "execution_count": 88,
   "id": "8af261dd-34cb-46da-af2a-bfa8a4ca1d42",
   "metadata": {},
   "outputs": [],
   "source": [
    "X=df.loc[:,['SMA_diff','SMA_diff_shifted']]"
   ]
  },
  {
   "cell_type": "code",
   "execution_count": 90,
   "id": "776cd400-886b-41b2-b1a9-41810f279ab2",
   "metadata": {},
   "outputs": [
    {
     "data": {
      "text/html": [
       "<div>\n",
       "<style scoped>\n",
       "    .dataframe tbody tr th:only-of-type {\n",
       "        vertical-align: middle;\n",
       "    }\n",
       "\n",
       "    .dataframe tbody tr th {\n",
       "        vertical-align: top;\n",
       "    }\n",
       "\n",
       "    .dataframe thead th {\n",
       "        text-align: right;\n",
       "    }\n",
       "</style>\n",
       "<table border=\"1\" class=\"dataframe\">\n",
       "  <thead>\n",
       "    <tr style=\"text-align: right;\">\n",
       "      <th></th>\n",
       "      <th>SMA_diff</th>\n",
       "      <th>SMA_diff_shifted</th>\n",
       "    </tr>\n",
       "  </thead>\n",
       "  <tbody>\n",
       "    <tr>\n",
       "      <th>1</th>\n",
       "      <td>-0.001799</td>\n",
       "      <td>-0.001079</td>\n",
       "    </tr>\n",
       "    <tr>\n",
       "      <th>2</th>\n",
       "      <td>-0.001079</td>\n",
       "      <td>-0.003658</td>\n",
       "    </tr>\n",
       "    <tr>\n",
       "      <th>3</th>\n",
       "      <td>-0.003658</td>\n",
       "      <td>-0.002069</td>\n",
       "    </tr>\n",
       "    <tr>\n",
       "      <th>4</th>\n",
       "      <td>-0.002069</td>\n",
       "      <td>-0.001589</td>\n",
       "    </tr>\n",
       "    <tr>\n",
       "      <th>5</th>\n",
       "      <td>-0.001589</td>\n",
       "      <td>-0.002848</td>\n",
       "    </tr>\n",
       "  </tbody>\n",
       "</table>\n",
       "</div>"
      ],
      "text/plain": [
       "   SMA_diff  SMA_diff_shifted\n",
       "1 -0.001799         -0.001079\n",
       "2 -0.001079         -0.003658\n",
       "3 -0.003658         -0.002069\n",
       "4 -0.002069         -0.001589\n",
       "5 -0.001589         -0.002848"
      ]
     },
     "execution_count": 90,
     "metadata": {},
     "output_type": "execute_result"
    }
   ],
   "source": [
    "X.head()"
   ]
  },
  {
   "cell_type": "code",
   "execution_count": 94,
   "id": "2b9d4dd0-f91a-4bae-8946-f6dd348e2022",
   "metadata": {},
   "outputs": [],
   "source": [
    "from imblearn.over_sampling import SMOTE\n",
    "\n",
    "sm = SMOTE(random_state=42)\n",
    "X_res, y_res = sm.fit_resample(X, y)\n"
   ]
  },
  {
   "cell_type": "code",
   "execution_count": 96,
   "id": "eeec2585-5fff-4444-b3bd-43989dac5bf7",
   "metadata": {},
   "outputs": [],
   "source": [
    "X_train,X_test,y_train,y_test=train_test_split(X_res,y_res,test_size=0.2,random_state=42)"
   ]
  },
  {
   "cell_type": "code",
   "execution_count": 98,
   "id": "473dbdfb-d45b-43cf-a184-a273cec94ffa",
   "metadata": {},
   "outputs": [
    {
     "name": "stdout",
     "output_type": "stream",
     "text": [
      "(3652, 2) (914, 2)\n"
     ]
    }
   ],
   "source": [
    "print(X_train.shape,X_test.shape)"
   ]
  },
  {
   "cell_type": "code",
   "execution_count": 100,
   "id": "28f38d4c-8f25-430c-aa02-55dfa3ad1a38",
   "metadata": {},
   "outputs": [
    {
     "name": "stdout",
     "output_type": "stream",
     "text": [
      "(3652, 1) (914, 1)\n"
     ]
    }
   ],
   "source": [
    "print(y_train.shape,y_test.shape)"
   ]
  },
  {
   "cell_type": "code",
   "execution_count": 119,
   "id": "8bce8e6a-d1bd-4d32-8954-370ba45b5582",
   "metadata": {},
   "outputs": [],
   "source": [
    "# Logistic model\n",
    "from sklearn.linear_model import LogisticRegression\n",
    "from sklearn.metrics import f1_score,precision_score,recall_score, classification_report"
   ]
  },
  {
   "cell_type": "code",
   "execution_count": 121,
   "id": "55a78cde-05fd-4286-a25b-99c949a57810",
   "metadata": {},
   "outputs": [],
   "source": [
    "Logistic=LogisticRegression()"
   ]
  },
  {
   "cell_type": "code",
   "execution_count": 123,
   "id": "6698b87f-770c-4a68-a7c7-35e06de481bc",
   "metadata": {},
   "outputs": [
    {
     "name": "stderr",
     "output_type": "stream",
     "text": [
      "C:\\Users\\yedla\\anaconda3_new\\Lib\\site-packages\\sklearn\\utils\\validation.py:1143: DataConversionWarning: A column-vector y was passed when a 1d array was expected. Please change the shape of y to (n_samples, ), for example using ravel().\n",
      "  y = column_or_1d(y, warn=True)\n"
     ]
    },
    {
     "data": {
      "text/html": [
       "<style>#sk-container-id-2 {color: black;background-color: white;}#sk-container-id-2 pre{padding: 0;}#sk-container-id-2 div.sk-toggleable {background-color: white;}#sk-container-id-2 label.sk-toggleable__label {cursor: pointer;display: block;width: 100%;margin-bottom: 0;padding: 0.3em;box-sizing: border-box;text-align: center;}#sk-container-id-2 label.sk-toggleable__label-arrow:before {content: \"▸\";float: left;margin-right: 0.25em;color: #696969;}#sk-container-id-2 label.sk-toggleable__label-arrow:hover:before {color: black;}#sk-container-id-2 div.sk-estimator:hover label.sk-toggleable__label-arrow:before {color: black;}#sk-container-id-2 div.sk-toggleable__content {max-height: 0;max-width: 0;overflow: hidden;text-align: left;background-color: #f0f8ff;}#sk-container-id-2 div.sk-toggleable__content pre {margin: 0.2em;color: black;border-radius: 0.25em;background-color: #f0f8ff;}#sk-container-id-2 input.sk-toggleable__control:checked~div.sk-toggleable__content {max-height: 200px;max-width: 100%;overflow: auto;}#sk-container-id-2 input.sk-toggleable__control:checked~label.sk-toggleable__label-arrow:before {content: \"▾\";}#sk-container-id-2 div.sk-estimator input.sk-toggleable__control:checked~label.sk-toggleable__label {background-color: #d4ebff;}#sk-container-id-2 div.sk-label input.sk-toggleable__control:checked~label.sk-toggleable__label {background-color: #d4ebff;}#sk-container-id-2 input.sk-hidden--visually {border: 0;clip: rect(1px 1px 1px 1px);clip: rect(1px, 1px, 1px, 1px);height: 1px;margin: -1px;overflow: hidden;padding: 0;position: absolute;width: 1px;}#sk-container-id-2 div.sk-estimator {font-family: monospace;background-color: #f0f8ff;border: 1px dotted black;border-radius: 0.25em;box-sizing: border-box;margin-bottom: 0.5em;}#sk-container-id-2 div.sk-estimator:hover {background-color: #d4ebff;}#sk-container-id-2 div.sk-parallel-item::after {content: \"\";width: 100%;border-bottom: 1px solid gray;flex-grow: 1;}#sk-container-id-2 div.sk-label:hover label.sk-toggleable__label {background-color: #d4ebff;}#sk-container-id-2 div.sk-serial::before {content: \"\";position: absolute;border-left: 1px solid gray;box-sizing: border-box;top: 0;bottom: 0;left: 50%;z-index: 0;}#sk-container-id-2 div.sk-serial {display: flex;flex-direction: column;align-items: center;background-color: white;padding-right: 0.2em;padding-left: 0.2em;position: relative;}#sk-container-id-2 div.sk-item {position: relative;z-index: 1;}#sk-container-id-2 div.sk-parallel {display: flex;align-items: stretch;justify-content: center;background-color: white;position: relative;}#sk-container-id-2 div.sk-item::before, #sk-container-id-2 div.sk-parallel-item::before {content: \"\";position: absolute;border-left: 1px solid gray;box-sizing: border-box;top: 0;bottom: 0;left: 50%;z-index: -1;}#sk-container-id-2 div.sk-parallel-item {display: flex;flex-direction: column;z-index: 1;position: relative;background-color: white;}#sk-container-id-2 div.sk-parallel-item:first-child::after {align-self: flex-end;width: 50%;}#sk-container-id-2 div.sk-parallel-item:last-child::after {align-self: flex-start;width: 50%;}#sk-container-id-2 div.sk-parallel-item:only-child::after {width: 0;}#sk-container-id-2 div.sk-dashed-wrapped {border: 1px dashed gray;margin: 0 0.4em 0.5em 0.4em;box-sizing: border-box;padding-bottom: 0.4em;background-color: white;}#sk-container-id-2 div.sk-label label {font-family: monospace;font-weight: bold;display: inline-block;line-height: 1.2em;}#sk-container-id-2 div.sk-label-container {text-align: center;}#sk-container-id-2 div.sk-container {/* jupyter's `normalize.less` sets `[hidden] { display: none; }` but bootstrap.min.css set `[hidden] { display: none !important; }` so we also need the `!important` here to be able to override the default hidden behavior on the sphinx rendered scikit-learn.org. See: https://github.com/scikit-learn/scikit-learn/issues/21755 */display: inline-block !important;position: relative;}#sk-container-id-2 div.sk-text-repr-fallback {display: none;}</style><div id=\"sk-container-id-2\" class=\"sk-top-container\"><div class=\"sk-text-repr-fallback\"><pre>LogisticRegression()</pre><b>In a Jupyter environment, please rerun this cell to show the HTML representation or trust the notebook. <br />On GitHub, the HTML representation is unable to render, please try loading this page with nbviewer.org.</b></div><div class=\"sk-container\" hidden><div class=\"sk-item\"><div class=\"sk-estimator sk-toggleable\"><input class=\"sk-toggleable__control sk-hidden--visually\" id=\"sk-estimator-id-2\" type=\"checkbox\" checked><label for=\"sk-estimator-id-2\" class=\"sk-toggleable__label sk-toggleable__label-arrow\">LogisticRegression</label><div class=\"sk-toggleable__content\"><pre>LogisticRegression()</pre></div></div></div></div></div>"
      ],
      "text/plain": [
       "LogisticRegression()"
      ]
     },
     "execution_count": 123,
     "metadata": {},
     "output_type": "execute_result"
    }
   ],
   "source": [
    "Logistic.fit(X_train,y_train)"
   ]
  },
  {
   "cell_type": "code",
   "execution_count": 125,
   "id": "723dfc38-3181-453c-8863-152b82de962f",
   "metadata": {},
   "outputs": [],
   "source": [
    "y_pred=Logistic.predict(X_test)"
   ]
  },
  {
   "cell_type": "code",
   "execution_count": 127,
   "id": "7e5d47b9-eaa4-4410-85cf-0517c061c711",
   "metadata": {},
   "outputs": [
    {
     "name": "stdout",
     "output_type": "stream",
     "text": [
      "              precision    recall  f1-score   support\n",
      "\n",
      "           0       1.00      1.00      1.00       478\n",
      "           1       1.00      1.00      1.00       436\n",
      "\n",
      "    accuracy                           1.00       914\n",
      "   macro avg       1.00      1.00      1.00       914\n",
      "weighted avg       1.00      1.00      1.00       914\n",
      "\n"
     ]
    }
   ],
   "source": [
    "print(classification_report(y_test,y_pred))"
   ]
  },
  {
   "cell_type": "code",
   "execution_count": 137,
   "id": "bd1ac55c-0a15-4b67-8306-9d095d188288",
   "metadata": {},
   "outputs": [
    {
     "data": {
      "text/plain": [
       "array([1], dtype=int64)"
      ]
     },
     "execution_count": 137,
     "metadata": {},
     "output_type": "execute_result"
    }
   ],
   "source": [
    "Logistic.predict(pd.DataFrame({'SMA_diff':0.911916,'SMA_diff_shifted':0.043115},index=[0]))"
   ]
  },
  {
   "cell_type": "code",
   "execution_count": 139,
   "id": "45663e1b-1541-4cdd-bbc7-3971474f759b",
   "metadata": {},
   "outputs": [
    {
     "data": {
      "text/plain": [
       "array([1], dtype=int64)"
      ]
     },
     "execution_count": 139,
     "metadata": {},
     "output_type": "execute_result"
    }
   ],
   "source": [
    "Logistic.predict(pd.DataFrame({'SMA_diff':1.673831,'SMA_diff_shifted':-0.060901},index=[0]))"
   ]
  },
  {
   "cell_type": "code",
   "execution_count": 141,
   "id": "9225d3ed-c064-4cbb-b3fd-a6fbccb3fd6a",
   "metadata": {},
   "outputs": [
    {
     "data": {
      "text/plain": [
       "array([0], dtype=int64)"
      ]
     },
     "execution_count": 141,
     "metadata": {},
     "output_type": "execute_result"
    }
   ],
   "source": [
    "Logistic.predict(pd.DataFrame({'SMA_diff':-0.003627,'SMA_diff_shifted':-0.002518},index=[0]))"
   ]
  },
  {
   "cell_type": "code",
   "execution_count": 143,
   "id": "d1697551-6f52-4e11-9d31-efbe3f113e54",
   "metadata": {},
   "outputs": [
    {
     "data": {
      "text/plain": [
       "array([0], dtype=int64)"
      ]
     },
     "execution_count": 143,
     "metadata": {},
     "output_type": "execute_result"
    }
   ],
   "source": [
    "Logistic.predict(pd.DataFrame({'SMA_diff':-0.001799,'SMA_diff_shifted':-0.003658},index=[0]))"
   ]
  },
  {
   "cell_type": "code",
   "execution_count": 153,
   "id": "4f2d0f02-bd68-40a2-a246-9ff2660cadec",
   "metadata": {},
   "outputs": [
    {
     "data": {
      "image/png": "[encoded data removed]",
      "text/plain": [
       "<Figure size 640x480 with 1 Axes>"
      ]
     },
     "metadata": {},
     "output_type": "display_data"
    }
   ],
   "source": [
    "from sklearn.metrics import roc_curve\n",
    "fpr, tpr, _ = roc_curve(y_test, y_pred)\n",
    "# Create the ROC curve\n",
    "plt.plot(fpr, tpr)\n",
    "plt.ylabel('True Positive Rate')\n",
    "plt.xlabel('False Positive Rate')\n",
    "plt.title('ROC Curve')\n",
    "plt.show()\n"
   ]
  },
  {
   "cell_type": "markdown",
   "id": "3654e12f-007e-4dc7-9662-bbc6ea561672",
   "metadata": {},
   "source": [
    "#### Comments:\n",
    "##### The predictions are perfect. It is giving exact predictions with perfect scores ,but are we sure about the robustness of the model?\n",
    "1. Such high metrics could indicate overfitting to the training data.\r",
    "2. Model might have memorized the synthetic examples created by SMOTE.\r\n",
    "It’s essential to evaluate the model on an unseen test set (not just the oversampled data) to assess its true performance."
   ]
  },
  {
   "cell_type": "markdown",
   "id": "a7a75de2-877f-4ee8-8602-97f8f347eea2",
   "metadata": {},
   "source": [
    "### Approach-2 : Unsupervised Learning. \n",
    "Can we try out unsupervised learning on this data? if so on what basis are we going to do?.\n",
    "#### Comments\n",
    "1. The range of the data is 6863-6873.And manuever also are in the same range, more over the data points are continous(to some extent), hence unsupervised learning methods like K-means, DBSCAN will not be appropriate here."
   ]
  },
  {
   "cell_type": "code",
   "execution_count": 1,
   "id": "8f6f1af6-91b9-44fd-a2b2-f78514979c25",
   "metadata": {},
   "outputs": [
    {
     "name": "stderr",
     "output_type": "stream",
     "text": [
      "'export' is not recognized as an internal or external command,\n",
      "operable program or batch file.\n"
     ]
    }
   ],
   "source": [
    "!export PATH=/Library/TeX/texbin:$PATH"
   ]
  },
  {
   "cell_type": "code",
   "execution_count": null,
   "id": "359ec654-8b04-4bf8-87ad-859ca4331049",
   "metadata": {},
   "outputs": [],
   "source": []
  }
 ],
 "metadata": {
  "kernelspec": {
   "display_name": "Python 3 (ipykernel)",
   "language": "python",
   "name": "python3"
  },
  "language_info": {
   "codemirror_mode": {
    "name": "ipython",
    "version": 3
   },
   "file_extension": ".py",
   "mimetype": "text/x-python",
   "name": "python",
   "nbconvert_exporter": "python",
   "pygments_lexer": "ipython3",
   "version": "3.11.7"
  }
 },
 "nbformat": 4,
 "nbformat_minor": 5
}
